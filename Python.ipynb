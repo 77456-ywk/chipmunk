{
 "cells": [
  {
   "cell_type": "markdown",
   "id": "2b8bc379-9b09-4fc3-bba3-aac76c63b604",
   "metadata": {},
   "source": [
    "# Python\n",
    "|Scala|\n",
    "|-----|\n",
    "|R    |\n",
    "|-----|"
   ]
  },
  {
   "cell_type": "code",
   "execution_count": null,
   "id": "154d0473-801d-43b5-952e-3caedec25702",
   "metadata": {},
   "outputs": [],
   "source": []
  },
  {
   "cell_type": "code",
   "execution_count": null,
   "id": "3027e526-8c97-4786-ac0f-04fb723a0140",
   "metadata": {},
   "outputs": [],
   "source": []
  }
 ],
 "metadata": {
  "kernelspec": {
   "display_name": "Python",
   "language": "python",
   "name": "conda-env-python-py"
  },
  "language_info": {
   "codemirror_mode": {
    "name": "ipython",
    "version": 3
   },
   "file_extension": ".py",
   "mimetype": "text/x-python",
   "name": "python",
   "nbconvert_exporter": "python",
   "pygments_lexer": "ipython3",
   "version": "3.6.13"
  }
 },
 "nbformat": 4,
 "nbformat_minor": 5
}
